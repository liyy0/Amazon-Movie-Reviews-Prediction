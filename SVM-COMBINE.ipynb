{
 "cells": [
  {
   "cell_type": "markdown",
   "metadata": {},
   "source": [
    "# IMPORT PACKAGE"
   ]
  },
  {
   "cell_type": "code",
   "execution_count": 24,
   "metadata": {},
   "outputs": [
    {
     "name": "stderr",
     "output_type": "stream",
     "text": [
      "[nltk_data] Downloading package punkt to\n",
      "[nltk_data]     C:\\Users\\dsa\\AppData\\Roaming\\nltk_data...\n",
      "[nltk_data]   Package punkt is already up-to-date!\n",
      "[nltk_data] Downloading package stopwords to\n",
      "[nltk_data]     C:\\Users\\dsa\\AppData\\Roaming\\nltk_data...\n",
      "[nltk_data]   Package stopwords is already up-to-date!\n"
     ]
    }
   ],
   "source": [
    "import numpy as np\n",
    "import pandas as pd\n",
    "import seaborn as sns\n",
    "from sklearn.model_selection import train_test_split\n",
    "import matplotlib.pyplot as plt\n",
    "import re\n",
    "import nltk\n",
    "from nltk.corpus import stopwords\n",
    "nltk.download('punkt')\n",
    "nltk.download('stopwords')\n",
    "from sklearn.feature_extraction.text import CountVectorizer, TfidfVectorizer\n",
    "from sklearn.metrics import mean_squared_error, confusion_matrix\n",
    "from sklearn import svm"
   ]
  },
  {
   "cell_type": "markdown",
   "metadata": {},
   "source": [
    "# IMPORT DATA"
   ]
  },
  {
   "cell_type": "code",
   "execution_count": 27,
   "metadata": {},
   "outputs": [],
   "source": [
    "# Load the dataset\n",
    "trainingSet = pd.read_csv(\"./data/X_train.csv\")\n",
    "submissionSet = pd.read_csv(\"./data/X_test.csv\")"
   ]
  },
  {
   "cell_type": "markdown",
   "metadata": {},
   "source": [
    "# DATA PROCESSING"
   ]
  },
  {
   "cell_type": "code",
   "execution_count": 17,
   "metadata": {},
   "outputs": [],
   "source": [
    "def process(trainingSet,submissionSet,col = 'Text'):\n",
    "    training_helpful = trainingSet[(trainingSet['HelpfulnessNumerator']<=trainingSet['HelpfulnessDenominator'])]\n",
    "    training_drop = training_helpful.dropna()\n",
    "    print(\"train set after cleaning wrong in helpfulness:   \" , trainingSet.shape)\n",
    "    print(\"train set after drop NaN:   \",training_drop.shape)\n",
    "\n",
    "    X_train, X_test, Y_train, Y_test = train_test_split(\n",
    "        training_drop.drop(['Score'], axis=1),\n",
    "        training_drop['Score'],\n",
    "        test_size=1/4.0,\n",
    "        random_state=0\n",
    "    )\n",
    "\n",
    "\n",
    "    if col == 'Text':\n",
    "        drop_col = ['Id', 'ProductId', 'UserId', 'Summary', 'Time']\n",
    "    elif col == 'Summary':\n",
    "        drop_col = ['Id', 'ProductId', 'UserId', 'Text', 'Time']\n",
    "\n",
    "    X_train_processed = X_train.drop(columns = drop_col)\n",
    "    X_test_processed = X_test.drop(columns = drop_col)\n",
    "    submission_processed = submissionSet.drop(columns = drop_col)\n",
    "    print(\"train set shape:  \",X_train_processed.shape,\"test set shape:  \",X_test_processed.shape)\n",
    "    \n",
    "    return X_train_processed,X_test_processed,Y_train,Y_test,submission_processed"
   ]
  },
  {
   "cell_type": "code",
   "execution_count": 18,
   "metadata": {},
   "outputs": [],
   "source": [
    "#clean the text\n",
    "#https://stackoverflow.com/questions/5843518/remove-all-special-characters-punctuation-and-spaces-from-string\n",
    "#https://stackoverflow.com/questions/29523254/python-remove-stop-words-from-pandas-dataframe\n",
    "def remove_char(x):\n",
    "    special = '[^A-Za-z ]+'\n",
    "    x = re.sub(special,'',x)\n",
    "    x = x.strip()\n",
    "    x = x.lower()\n",
    "    return x\n",
    "\n",
    "\n",
    "def clean_word(dataset,col):\n",
    "    stop_words = set(stopwords.words('english'))\n",
    "    test = dataset[col].apply(lambda row: remove_char(str(row))).apply(lambda x: ' '.join([word for word in x.split() if word not in (stop_words)]))\n",
    "    return test"
   ]
  },
  {
   "cell_type": "code",
   "execution_count": 19,
   "metadata": {},
   "outputs": [],
   "source": [
    "trainingSet['Text'] = trainingSet['Text'] + ' ' + trainingSet['Summary']\n",
    "submissionSet['Text'] = submissionSet['Text']  + ' ' + submissionSet['Summary']\n"
   ]
  },
  {
   "cell_type": "code",
   "execution_count": 20,
   "metadata": {},
   "outputs": [
    {
     "name": "stdout",
     "output_type": "stream",
     "text": [
      "train set after cleaning wrong in helpfulness:    (1397533, 10)\n",
      "train set after drop NaN:    (1397455, 10)\n",
      "train set shape:   (1048091, 4) test set shape:   (349364, 4)\n"
     ]
    }
   ],
   "source": [
    "#SEPERATE THE DATASET \n",
    "X_train_processed,X_test_processed,Y_train,Y_test,submission_processed = process(trainingSet,submissionSet,'Text')"
   ]
  },
  {
   "cell_type": "code",
   "execution_count": 21,
   "metadata": {},
   "outputs": [
    {
     "data": {
      "text/html": [
       "<div>\n",
       "<style scoped>\n",
       "    .dataframe tbody tr th:only-of-type {\n",
       "        vertical-align: middle;\n",
       "    }\n",
       "\n",
       "    .dataframe tbody tr th {\n",
       "        vertical-align: top;\n",
       "    }\n",
       "\n",
       "    .dataframe thead th {\n",
       "        text-align: right;\n",
       "    }\n",
       "</style>\n",
       "<table border=\"1\" class=\"dataframe\">\n",
       "  <thead>\n",
       "    <tr style=\"text-align: right;\">\n",
       "      <th></th>\n",
       "      <th>HelpfulnessNumerator</th>\n",
       "      <th>HelpfulnessDenominator</th>\n",
       "      <th>Text</th>\n",
       "      <th>Helpfulness</th>\n",
       "    </tr>\n",
       "  </thead>\n",
       "  <tbody>\n",
       "    <tr>\n",
       "      <th>214099</th>\n",
       "      <td>0</td>\n",
       "      <td>0</td>\n",
       "      <td>As a big fan of Miami Vice, I enjoyed this mov...</td>\n",
       "      <td>0.0</td>\n",
       "    </tr>\n",
       "    <tr>\n",
       "      <th>544327</th>\n",
       "      <td>0</td>\n",
       "      <td>0</td>\n",
       "      <td>Intimate and fascinating biographic documentar...</td>\n",
       "      <td>0.0</td>\n",
       "    </tr>\n",
       "    <tr>\n",
       "      <th>500542</th>\n",
       "      <td>1</td>\n",
       "      <td>2</td>\n",
       "      <td>This movie was really not all that great.  The...</td>\n",
       "      <td>0.5</td>\n",
       "    </tr>\n",
       "    <tr>\n",
       "      <th>493726</th>\n",
       "      <td>0</td>\n",
       "      <td>0</td>\n",
       "      <td>Tried watching this on TV but missed several e...</td>\n",
       "      <td>0.0</td>\n",
       "    </tr>\n",
       "    <tr>\n",
       "      <th>579893</th>\n",
       "      <td>0</td>\n",
       "      <td>0</td>\n",
       "      <td>it's ok if you had  last few movies on the she...</td>\n",
       "      <td>0.0</td>\n",
       "    </tr>\n",
       "  </tbody>\n",
       "</table>\n",
       "</div>"
      ],
      "text/plain": [
       "        HelpfulnessNumerator  HelpfulnessDenominator  \\\n",
       "214099                     0                       0   \n",
       "544327                     0                       0   \n",
       "500542                     1                       2   \n",
       "493726                     0                       0   \n",
       "579893                     0                       0   \n",
       "\n",
       "                                                     Text  Helpfulness  \n",
       "214099  As a big fan of Miami Vice, I enjoyed this mov...          0.0  \n",
       "544327  Intimate and fascinating biographic documentar...          0.0  \n",
       "500542  This movie was really not all that great.  The...          0.5  \n",
       "493726  Tried watching this on TV but missed several e...          0.0  \n",
       "579893  it's ok if you had  last few movies on the she...          0.0  "
      ]
     },
     "execution_count": 21,
     "metadata": {},
     "output_type": "execute_result"
    }
   ],
   "source": [
    "X_train_processed.head()"
   ]
  },
  {
   "cell_type": "code",
   "execution_count": 22,
   "metadata": {},
   "outputs": [
    {
     "data": {
      "text/plain": [
       "214099    big fan miami vice enjoyed movie mainly enjoy ...\n",
       "544327    intimate fascinating biographic documentary gr...\n",
       "500542    movie really great way movie designed looked l...\n",
       "493726    tried watching tv missed several episodes enjo...\n",
       "579893    ok last movies shelf would reccomend someone t...\n",
       "Name: Text, dtype: object"
      ]
     },
     "execution_count": 22,
     "metadata": {},
     "output_type": "execute_result"
    }
   ],
   "source": [
    "# APLLY THE CLEANNING FUNCTION TO DATAFRAME\n",
    "X_train_text = clean_word(X_train_processed,'Text')\n",
    "X_test_text = clean_word(X_test_processed,'Text')\n",
    "submission_text = clean_word(submission_processed,'Text')\n",
    "X_train_text.head()"
   ]
  },
  {
   "cell_type": "markdown",
   "metadata": {},
   "source": [
    "# VECTORIZING THE DATA"
   ]
  },
  {
   "cell_type": "code",
   "execution_count": 23,
   "metadata": {},
   "outputs": [
    {
     "name": "stdout",
     "output_type": "stream",
     "text": [
      "shape of training set TFIDF&text:  (1048091, 1755702)\n"
     ]
    }
   ],
   "source": [
    "#tfidf the data\n",
    "tfidf_text = TfidfVectorizer()\n",
    "X_training_tfidf_text = tfidf_text.fit_transform(X_train_text)\n",
    "X_test_tfidf_text = tfidf_text.transform(X_test_text)\n",
    "submission_tfidf_text = tfidf_text.transform(submission_text)\n",
    "print(\"shape of training set TFIDF&text: \",X_training_tfidf_text.shape)"
   ]
  },
  {
   "cell_type": "markdown",
   "metadata": {},
   "source": [
    "# MODEL TRAINING"
   ]
  },
  {
   "cell_type": "code",
   "execution_count": 25,
   "metadata": {},
   "outputs": [
    {
     "data": {
      "text/plain": [
       "LinearSVC()"
      ]
     },
     "execution_count": 25,
     "metadata": {},
     "output_type": "execute_result"
    }
   ],
   "source": [
    "SVM_combine = svm.LinearSVC()\n",
    "SVM_combine.fit(X_training_tfidf_text,Y_train)"
   ]
  },
  {
   "cell_type": "markdown",
   "metadata": {},
   "source": [
    "# EVALUATE THE MODEL"
   ]
  },
  {
   "cell_type": "code",
   "execution_count": 26,
   "metadata": {},
   "outputs": [
    {
     "name": "stdout",
     "output_type": "stream",
     "text": [
      "RMSE on SVM_combine testing set =  0.8767674975097606\n"
     ]
    }
   ],
   "source": [
    "Y_combine = SVM_combine.predict(X_test_tfidf_text)\n",
    "print(\"RMSE on SVM_combine testing set = \", mean_squared_error(Y_test, Y_combine))"
   ]
  },
  {
   "cell_type": "markdown",
   "metadata": {},
   "source": [
    "# CREATE SUBMISSION SET"
   ]
  },
  {
   "cell_type": "code",
   "execution_count": 28,
   "metadata": {},
   "outputs": [],
   "source": [
    "submission_predict = submissionSet\n",
    "submission_predict['Score'] = SVM_combine.predict(submission_tfidf_text)\n",
    "submission_output = submission_predict[['Id','Score']]\n",
    "submission_output.to_csv(\"./data/SVM_combine_submission.csv\",index = False)"
   ]
  },
  {
   "cell_type": "markdown",
   "metadata": {},
   "source": [
    "# Product Id TEST"
   ]
  },
  {
   "cell_type": "code",
   "execution_count": 11,
   "metadata": {},
   "outputs": [],
   "source": [
    "# Predict_output = pd.read_csv(\"./data/SVM_combine_submission.csv.csv\")\n",
    "# raw = pd.read_csv(\"./data/train.csv\")\n",
    "# predict_merge = pd.merge(Predict_output, raw, left_on='Id', right_on='Id')"
   ]
  },
  {
   "cell_type": "code",
   "execution_count": 5,
   "metadata": {},
   "outputs": [
    {
     "name": "stdout",
     "output_type": "stream",
     "text": [
      "score 5: (2200, 1)\n",
      "score 4: (2689, 1)\n",
      "score 3: (904, 1)\n",
      "score 2: (249, 1)\n",
      "score 1: (23, 1)\n"
     ]
    }
   ],
   "source": [
    "# test = raw.loc[:,[\"ProductId\",'Score']].groupby(by = 'ProductId').mean()\n",
    "# test5 = test[test['Score']==5.0]\n",
    "# test4 = test[test['Score']==4.0]\n",
    "# test3 = test[test['Score']==3.0]\n",
    "# test2 = test[test['Score']==2.0]\n",
    "# test1 = test[test['Score']==1.0]\n",
    "# print(\"score 5:\",test5.shape)\n",
    "# print(\"score 4:\",test4.shape)\n",
    "# print(\"score 3:\",test3.shape)\n",
    "# print(\"score 2:\",test2.shape)\n",
    "# print(\"score 1:\",test1.shape)"
   ]
  },
  {
   "cell_type": "code",
   "execution_count": 74,
   "metadata": {},
   "outputs": [],
   "source": [
    "# product5 = test5.index\n",
    "# product4 = test4.index\n",
    "# product3 = test3.index\n",
    "# product2 = test2.index\n",
    "# product1 = test1.index"
   ]
  },
  {
   "cell_type": "code",
   "execution_count": 87,
   "metadata": {},
   "outputs": [
    {
     "data": {
      "text/html": [
       "<div>\n",
       "<style scoped>\n",
       "    .dataframe tbody tr th:only-of-type {\n",
       "        vertical-align: middle;\n",
       "    }\n",
       "\n",
       "    .dataframe tbody tr th {\n",
       "        vertical-align: top;\n",
       "    }\n",
       "\n",
       "    .dataframe thead th {\n",
       "        text-align: right;\n",
       "    }\n",
       "</style>\n",
       "<table border=\"1\" class=\"dataframe\">\n",
       "  <thead>\n",
       "    <tr style=\"text-align: right;\">\n",
       "      <th></th>\n",
       "      <th>Id</th>\n",
       "      <th>ProductId</th>\n",
       "      <th>Score_x</th>\n",
       "    </tr>\n",
       "  </thead>\n",
       "  <tbody>\n",
       "    <tr>\n",
       "      <th>0</th>\n",
       "      <td>5</td>\n",
       "      <td>0005019281</td>\n",
       "      <td>5.0</td>\n",
       "    </tr>\n",
       "    <tr>\n",
       "      <th>1</th>\n",
       "      <td>11</td>\n",
       "      <td>0005019281</td>\n",
       "      <td>4.0</td>\n",
       "    </tr>\n",
       "    <tr>\n",
       "      <th>2</th>\n",
       "      <td>17</td>\n",
       "      <td>0005019281</td>\n",
       "      <td>4.0</td>\n",
       "    </tr>\n",
       "    <tr>\n",
       "      <th>3</th>\n",
       "      <td>46</td>\n",
       "      <td>0005019281</td>\n",
       "      <td>5.0</td>\n",
       "    </tr>\n",
       "    <tr>\n",
       "      <th>4</th>\n",
       "      <td>47</td>\n",
       "      <td>0005019281</td>\n",
       "      <td>1.0</td>\n",
       "    </tr>\n",
       "    <tr>\n",
       "      <th>...</th>\n",
       "      <td>...</td>\n",
       "      <td>...</td>\n",
       "      <td>...</td>\n",
       "    </tr>\n",
       "    <tr>\n",
       "      <th>299995</th>\n",
       "      <td>1697520</td>\n",
       "      <td>B00LH9ROKM</td>\n",
       "      <td>4.0</td>\n",
       "    </tr>\n",
       "    <tr>\n",
       "      <th>299996</th>\n",
       "      <td>1697522</td>\n",
       "      <td>B00LT1JHLW</td>\n",
       "      <td>5.0</td>\n",
       "    </tr>\n",
       "    <tr>\n",
       "      <th>299997</th>\n",
       "      <td>1697524</td>\n",
       "      <td>B00LT1JHLW</td>\n",
       "      <td>3.0</td>\n",
       "    </tr>\n",
       "    <tr>\n",
       "      <th>299998</th>\n",
       "      <td>1697527</td>\n",
       "      <td>B00LT1JHLW</td>\n",
       "      <td>5.0</td>\n",
       "    </tr>\n",
       "    <tr>\n",
       "      <th>299999</th>\n",
       "      <td>1697528</td>\n",
       "      <td>B00LT1JHLW</td>\n",
       "      <td>2.0</td>\n",
       "    </tr>\n",
       "  </tbody>\n",
       "</table>\n",
       "<p>300000 rows × 3 columns</p>\n",
       "</div>"
      ],
      "text/plain": [
       "             Id   ProductId  Score_x\n",
       "0             5  0005019281      5.0\n",
       "1            11  0005019281      4.0\n",
       "2            17  0005019281      4.0\n",
       "3            46  0005019281      5.0\n",
       "4            47  0005019281      1.0\n",
       "...         ...         ...      ...\n",
       "299995  1697520  B00LH9ROKM      4.0\n",
       "299996  1697522  B00LT1JHLW      5.0\n",
       "299997  1697524  B00LT1JHLW      3.0\n",
       "299998  1697527  B00LT1JHLW      5.0\n",
       "299999  1697528  B00LT1JHLW      2.0\n",
       "\n",
       "[300000 rows x 3 columns]"
      ]
     },
     "execution_count": 87,
     "metadata": {},
     "output_type": "execute_result"
    }
   ],
   "source": [
    "# predict_productid = predict_merge.loc[:,[\"Id\",\"ProductId\",'Score_x']]\n",
    "# predict_productid"
   ]
  },
  {
   "cell_type": "code",
   "execution_count": 88,
   "metadata": {},
   "outputs": [],
   "source": [
    "# predict_productid['check5'] = predict_productid['ProductId'].isin(product5)\n",
    "# predict_productid['check4'] = predict_productid['ProductId'].isin(product4)\n",
    "# predict_productid['check3'] = predict_productid['ProductId'].isin(product3)\n",
    "# predict_productid['check2'] = predict_productid['ProductId'].isin(product2)\n",
    "# predict_productid['check1'] = predict_productid['ProductId'].isin(product1)"
   ]
  },
  {
   "cell_type": "code",
   "execution_count": 89,
   "metadata": {},
   "outputs": [],
   "source": [
    "# predict_productid.loc[predict_productid.check5==True,'Score_x'] = 5.0\n",
    "# predict_productid.loc[predict_productid.check4==True,'Score_x'] = 4.0\n",
    "# predict_productid.loc[predict_productid.check3==True,'Score_x'] = 3.0\n",
    "# predict_productid.loc[predict_productid.check2==True,'Score_x'] = 2.0\n",
    "# predict_productid.loc[predict_productid.check1==True,'Score_x'] = 1.0"
   ]
  },
  {
   "cell_type": "code",
   "execution_count": 90,
   "metadata": {},
   "outputs": [
    {
     "data": {
      "text/html": [
       "<div>\n",
       "<style scoped>\n",
       "    .dataframe tbody tr th:only-of-type {\n",
       "        vertical-align: middle;\n",
       "    }\n",
       "\n",
       "    .dataframe tbody tr th {\n",
       "        vertical-align: top;\n",
       "    }\n",
       "\n",
       "    .dataframe thead th {\n",
       "        text-align: right;\n",
       "    }\n",
       "</style>\n",
       "<table border=\"1\" class=\"dataframe\">\n",
       "  <thead>\n",
       "    <tr style=\"text-align: right;\">\n",
       "      <th></th>\n",
       "      <th>Id</th>\n",
       "      <th>ProductId</th>\n",
       "      <th>Score_x</th>\n",
       "      <th>check5</th>\n",
       "      <th>check4</th>\n",
       "      <th>check3</th>\n",
       "      <th>check2</th>\n",
       "      <th>check1</th>\n",
       "    </tr>\n",
       "  </thead>\n",
       "  <tbody>\n",
       "    <tr>\n",
       "      <th>0</th>\n",
       "      <td>5</td>\n",
       "      <td>0005019281</td>\n",
       "      <td>5.0</td>\n",
       "      <td>False</td>\n",
       "      <td>False</td>\n",
       "      <td>False</td>\n",
       "      <td>False</td>\n",
       "      <td>False</td>\n",
       "    </tr>\n",
       "    <tr>\n",
       "      <th>1</th>\n",
       "      <td>11</td>\n",
       "      <td>0005019281</td>\n",
       "      <td>4.0</td>\n",
       "      <td>False</td>\n",
       "      <td>False</td>\n",
       "      <td>False</td>\n",
       "      <td>False</td>\n",
       "      <td>False</td>\n",
       "    </tr>\n",
       "    <tr>\n",
       "      <th>2</th>\n",
       "      <td>17</td>\n",
       "      <td>0005019281</td>\n",
       "      <td>4.0</td>\n",
       "      <td>False</td>\n",
       "      <td>False</td>\n",
       "      <td>False</td>\n",
       "      <td>False</td>\n",
       "      <td>False</td>\n",
       "    </tr>\n",
       "    <tr>\n",
       "      <th>3</th>\n",
       "      <td>46</td>\n",
       "      <td>0005019281</td>\n",
       "      <td>5.0</td>\n",
       "      <td>False</td>\n",
       "      <td>False</td>\n",
       "      <td>False</td>\n",
       "      <td>False</td>\n",
       "      <td>False</td>\n",
       "    </tr>\n",
       "    <tr>\n",
       "      <th>4</th>\n",
       "      <td>47</td>\n",
       "      <td>0005019281</td>\n",
       "      <td>1.0</td>\n",
       "      <td>False</td>\n",
       "      <td>False</td>\n",
       "      <td>False</td>\n",
       "      <td>False</td>\n",
       "      <td>False</td>\n",
       "    </tr>\n",
       "    <tr>\n",
       "      <th>...</th>\n",
       "      <td>...</td>\n",
       "      <td>...</td>\n",
       "      <td>...</td>\n",
       "      <td>...</td>\n",
       "      <td>...</td>\n",
       "      <td>...</td>\n",
       "      <td>...</td>\n",
       "      <td>...</td>\n",
       "    </tr>\n",
       "    <tr>\n",
       "      <th>299995</th>\n",
       "      <td>1697520</td>\n",
       "      <td>B00LH9ROKM</td>\n",
       "      <td>4.0</td>\n",
       "      <td>False</td>\n",
       "      <td>False</td>\n",
       "      <td>False</td>\n",
       "      <td>False</td>\n",
       "      <td>False</td>\n",
       "    </tr>\n",
       "    <tr>\n",
       "      <th>299996</th>\n",
       "      <td>1697522</td>\n",
       "      <td>B00LT1JHLW</td>\n",
       "      <td>5.0</td>\n",
       "      <td>False</td>\n",
       "      <td>False</td>\n",
       "      <td>False</td>\n",
       "      <td>False</td>\n",
       "      <td>False</td>\n",
       "    </tr>\n",
       "    <tr>\n",
       "      <th>299997</th>\n",
       "      <td>1697524</td>\n",
       "      <td>B00LT1JHLW</td>\n",
       "      <td>3.0</td>\n",
       "      <td>False</td>\n",
       "      <td>False</td>\n",
       "      <td>False</td>\n",
       "      <td>False</td>\n",
       "      <td>False</td>\n",
       "    </tr>\n",
       "    <tr>\n",
       "      <th>299998</th>\n",
       "      <td>1697527</td>\n",
       "      <td>B00LT1JHLW</td>\n",
       "      <td>5.0</td>\n",
       "      <td>False</td>\n",
       "      <td>False</td>\n",
       "      <td>False</td>\n",
       "      <td>False</td>\n",
       "      <td>False</td>\n",
       "    </tr>\n",
       "    <tr>\n",
       "      <th>299999</th>\n",
       "      <td>1697528</td>\n",
       "      <td>B00LT1JHLW</td>\n",
       "      <td>2.0</td>\n",
       "      <td>False</td>\n",
       "      <td>False</td>\n",
       "      <td>False</td>\n",
       "      <td>False</td>\n",
       "      <td>False</td>\n",
       "    </tr>\n",
       "  </tbody>\n",
       "</table>\n",
       "<p>300000 rows × 8 columns</p>\n",
       "</div>"
      ],
      "text/plain": [
       "             Id   ProductId  Score_x  check5  check4  check3  check2  check1\n",
       "0             5  0005019281      5.0   False   False   False   False   False\n",
       "1            11  0005019281      4.0   False   False   False   False   False\n",
       "2            17  0005019281      4.0   False   False   False   False   False\n",
       "3            46  0005019281      5.0   False   False   False   False   False\n",
       "4            47  0005019281      1.0   False   False   False   False   False\n",
       "...         ...         ...      ...     ...     ...     ...     ...     ...\n",
       "299995  1697520  B00LH9ROKM      4.0   False   False   False   False   False\n",
       "299996  1697522  B00LT1JHLW      5.0   False   False   False   False   False\n",
       "299997  1697524  B00LT1JHLW      3.0   False   False   False   False   False\n",
       "299998  1697527  B00LT1JHLW      5.0   False   False   False   False   False\n",
       "299999  1697528  B00LT1JHLW      2.0   False   False   False   False   False\n",
       "\n",
       "[300000 rows x 8 columns]"
      ]
     },
     "execution_count": 90,
     "metadata": {},
     "output_type": "execute_result"
    }
   ],
   "source": [
    "# predict_productid"
   ]
  },
  {
   "cell_type": "code",
   "execution_count": 93,
   "metadata": {},
   "outputs": [],
   "source": [
    "# submission_product = predict_productid[['Id','Score_x']]\n",
    "# submission_product = submission_product.set_axis(['Id','Score'],axis=1)"
   ]
  },
  {
   "cell_type": "code",
   "execution_count": 96,
   "metadata": {},
   "outputs": [],
   "source": [
    "# submission_product.to_csv(\"./data/product_test.csv\",index = False)"
   ]
  }
 ],
 "metadata": {
  "interpreter": {
   "hash": "bd2e637a70a200b3ebcab9c346823b324e3cae506e7b662da0792a7bb4adc9ef"
  },
  "kernelspec": {
   "display_name": "Python 3.9.7 64-bit",
   "name": "python3"
  },
  "language_info": {
   "codemirror_mode": {
    "name": "ipython",
    "version": 3
   },
   "file_extension": ".py",
   "mimetype": "text/x-python",
   "name": "python",
   "nbconvert_exporter": "python",
   "pygments_lexer": "ipython3",
   "version": "3.9.7"
  },
  "orig_nbformat": 4
 },
 "nbformat": 4,
 "nbformat_minor": 2
}
