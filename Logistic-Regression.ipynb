{
 "cells": [
  {
   "cell_type": "markdown",
   "metadata": {},
   "source": [
    "# IMPORT PACKAGE"
   ]
  },
  {
   "cell_type": "code",
   "execution_count": 10,
   "metadata": {},
   "outputs": [
    {
     "name": "stderr",
     "output_type": "stream",
     "text": [
      "[nltk_data] Downloading package punkt to\n",
      "[nltk_data]     C:\\Users\\dsa\\AppData\\Roaming\\nltk_data...\n",
      "[nltk_data]   Package punkt is already up-to-date!\n",
      "[nltk_data] Downloading package stopwords to\n",
      "[nltk_data]     C:\\Users\\dsa\\AppData\\Roaming\\nltk_data...\n",
      "[nltk_data]   Package stopwords is already up-to-date!\n"
     ]
    }
   ],
   "source": [
    "import numpy as np\n",
    "import pandas as pd\n",
    "import seaborn as sns\n",
    "from sklearn.model_selection import train_test_split\n",
    "import matplotlib.pyplot as plt\n",
    "import re\n",
    "import nltk\n",
    "from nltk.corpus import stopwords\n",
    "nltk.download('punkt')\n",
    "nltk.download('stopwords')\n",
    "from sklearn.feature_extraction.text import CountVectorizer, TfidfVectorizer\n",
    "from sklearn.metrics import mean_squared_error, confusion_matrix\n",
    "from sklearn import svm\n",
    "from sklearn.linear_model import LogisticRegression"
   ]
  },
  {
   "cell_type": "markdown",
   "metadata": {},
   "source": [
    "# IMPORT DATA"
   ]
  },
  {
   "cell_type": "code",
   "execution_count": 2,
   "metadata": {},
   "outputs": [],
   "source": [
    "# Load the dataset\n",
    "trainingSet = pd.read_csv(\"./data/X_train.csv\")\n",
    "submissionSet = pd.read_csv(\"./data/X_test.csv\")"
   ]
  },
  {
   "cell_type": "markdown",
   "metadata": {},
   "source": [
    "# DATA PROCESSING"
   ]
  },
  {
   "cell_type": "code",
   "execution_count": 3,
   "metadata": {},
   "outputs": [],
   "source": [
    "def process(trainingSet,submissionSet,col = 'Text'):\n",
    "    training_helpful = trainingSet[(trainingSet['HelpfulnessNumerator']<=trainingSet['HelpfulnessDenominator'])]\n",
    "    training_drop = training_helpful.dropna()\n",
    "    print(\"train set after cleaning wrong in helpfulness:   \" , trainingSet.shape)\n",
    "    print(\"train set after drop NaN:   \",training_drop.shape)\n",
    "\n",
    "    X_train, X_test, Y_train, Y_test = train_test_split(\n",
    "        training_drop.drop(['Score'], axis=1),\n",
    "        training_drop['Score'],\n",
    "        test_size=1/4.0,\n",
    "        random_state=0\n",
    "    )\n",
    "\n",
    "\n",
    "    if col == 'Text':\n",
    "        drop_col = ['Id', 'ProductId', 'UserId', 'Summary', 'Time']\n",
    "    elif col == 'Summary':\n",
    "        drop_col = ['Id', 'ProductId', 'UserId', 'Text', 'Time']\n",
    "\n",
    "    X_train_processed = X_train.drop(columns = drop_col)\n",
    "    X_test_processed = X_test.drop(columns = drop_col)\n",
    "    submission_processed = submissionSet.drop(columns = drop_col)\n",
    "    print(\"train set shape:  \",X_train_processed.shape,\"test set shape:  \",X_test_processed.shape)\n",
    "    \n",
    "    return X_train_processed,X_test_processed,Y_train,Y_test,submission_processed"
   ]
  },
  {
   "cell_type": "code",
   "execution_count": 4,
   "metadata": {},
   "outputs": [],
   "source": [
    "#clean the text\n",
    "#https://stackoverflow.com/questions/5843518/remove-all-special-characters-punctuation-and-spaces-from-string\n",
    "#https://stackoverflow.com/questions/29523254/python-remove-stop-words-from-pandas-dataframe\n",
    "def remove_char(x):\n",
    "    special = '[^A-Za-z ]+'\n",
    "    x = re.sub(special,'',x)\n",
    "    x = x.strip()\n",
    "    x = x.lower()\n",
    "    return x\n",
    "\n",
    "\n",
    "def clean_word(dataset,col):\n",
    "    stop_words = set(stopwords.words('english'))\n",
    "    test = dataset[col].apply(lambda row: remove_char(str(row))).apply(lambda x: ' '.join([word for word in x.split() if word not in (stop_words)]))\n",
    "    return test"
   ]
  },
  {
   "cell_type": "code",
   "execution_count": 5,
   "metadata": {},
   "outputs": [],
   "source": [
    "trainingSet['Text'] = trainingSet['Text'] + ' ' + trainingSet['Summary']\n",
    "submissionSet['Text'] = submissionSet['Text']  + ' ' + submissionSet['Summary']"
   ]
  },
  {
   "cell_type": "code",
   "execution_count": 6,
   "metadata": {},
   "outputs": [
    {
     "name": "stdout",
     "output_type": "stream",
     "text": [
      "train set after cleaning wrong in helpfulness:    (1397533, 10)\n",
      "train set after drop NaN:    (1397455, 10)\n",
      "train set shape:   (1048091, 4) test set shape:   (349364, 4)\n"
     ]
    }
   ],
   "source": [
    "#SEPERATE THE DATASET \n",
    "X_train_processed,X_test_processed,Y_train,Y_test,submission_processed = process(trainingSet,submissionSet,'Text')"
   ]
  },
  {
   "cell_type": "code",
   "execution_count": 7,
   "metadata": {},
   "outputs": [
    {
     "data": {
      "text/html": [
       "<div>\n",
       "<style scoped>\n",
       "    .dataframe tbody tr th:only-of-type {\n",
       "        vertical-align: middle;\n",
       "    }\n",
       "\n",
       "    .dataframe tbody tr th {\n",
       "        vertical-align: top;\n",
       "    }\n",
       "\n",
       "    .dataframe thead th {\n",
       "        text-align: right;\n",
       "    }\n",
       "</style>\n",
       "<table border=\"1\" class=\"dataframe\">\n",
       "  <thead>\n",
       "    <tr style=\"text-align: right;\">\n",
       "      <th></th>\n",
       "      <th>HelpfulnessNumerator</th>\n",
       "      <th>HelpfulnessDenominator</th>\n",
       "      <th>Text</th>\n",
       "      <th>Helpfulness</th>\n",
       "    </tr>\n",
       "  </thead>\n",
       "  <tbody>\n",
       "    <tr>\n",
       "      <th>214099</th>\n",
       "      <td>0</td>\n",
       "      <td>0</td>\n",
       "      <td>As a big fan of Miami Vice, I enjoyed this mov...</td>\n",
       "      <td>0.0</td>\n",
       "    </tr>\n",
       "    <tr>\n",
       "      <th>544327</th>\n",
       "      <td>0</td>\n",
       "      <td>0</td>\n",
       "      <td>Intimate and fascinating biographic documentar...</td>\n",
       "      <td>0.0</td>\n",
       "    </tr>\n",
       "    <tr>\n",
       "      <th>500542</th>\n",
       "      <td>1</td>\n",
       "      <td>2</td>\n",
       "      <td>This movie was really not all that great.  The...</td>\n",
       "      <td>0.5</td>\n",
       "    </tr>\n",
       "    <tr>\n",
       "      <th>493726</th>\n",
       "      <td>0</td>\n",
       "      <td>0</td>\n",
       "      <td>Tried watching this on TV but missed several e...</td>\n",
       "      <td>0.0</td>\n",
       "    </tr>\n",
       "    <tr>\n",
       "      <th>579893</th>\n",
       "      <td>0</td>\n",
       "      <td>0</td>\n",
       "      <td>it's ok if you had  last few movies on the she...</td>\n",
       "      <td>0.0</td>\n",
       "    </tr>\n",
       "  </tbody>\n",
       "</table>\n",
       "</div>"
      ],
      "text/plain": [
       "        HelpfulnessNumerator  HelpfulnessDenominator  \\\n",
       "214099                     0                       0   \n",
       "544327                     0                       0   \n",
       "500542                     1                       2   \n",
       "493726                     0                       0   \n",
       "579893                     0                       0   \n",
       "\n",
       "                                                     Text  Helpfulness  \n",
       "214099  As a big fan of Miami Vice, I enjoyed this mov...          0.0  \n",
       "544327  Intimate and fascinating biographic documentar...          0.0  \n",
       "500542  This movie was really not all that great.  The...          0.5  \n",
       "493726  Tried watching this on TV but missed several e...          0.0  \n",
       "579893  it's ok if you had  last few movies on the she...          0.0  "
      ]
     },
     "execution_count": 7,
     "metadata": {},
     "output_type": "execute_result"
    }
   ],
   "source": [
    "X_train_processed.head()"
   ]
  },
  {
   "cell_type": "code",
   "execution_count": 8,
   "metadata": {},
   "outputs": [
    {
     "data": {
      "text/plain": [
       "214099    big fan miami vice enjoyed movie mainly enjoy ...\n",
       "544327    intimate fascinating biographic documentary gr...\n",
       "500542    movie really great way movie designed looked l...\n",
       "493726    tried watching tv missed several episodes enjo...\n",
       "579893    ok last movies shelf would reccomend someone t...\n",
       "Name: Text, dtype: object"
      ]
     },
     "execution_count": 8,
     "metadata": {},
     "output_type": "execute_result"
    }
   ],
   "source": [
    "# APLLY THE CLEANNING FUNCTION TO DATAFRAME\n",
    "X_train_text = clean_word(X_train_processed,'Text')\n",
    "X_test_text = clean_word(X_test_processed,'Text')\n",
    "submission_text = clean_word(submission_processed,'Text')\n",
    "X_train_text.head()"
   ]
  },
  {
   "cell_type": "code",
   "execution_count": 9,
   "metadata": {},
   "outputs": [
    {
     "name": "stdout",
     "output_type": "stream",
     "text": [
      "shape of training set CountVector&text:  (1048091, 1755702)\n"
     ]
    }
   ],
   "source": [
    "#countVector the data\n",
    "vectorizer_text = CountVectorizer()\n",
    "X_training_vector_text = vectorizer_text.fit_transform(X_train_text)\n",
    "X_test_vectorr_text = vectorizer_text.transform(X_test_text)\n",
    "submission_vectorr_text = vectorizer_text.transform(submission_text)\n",
    "print(\"shape of training set CountVector&text: \",X_training_vector_text.shape)"
   ]
  },
  {
   "cell_type": "code",
   "execution_count": 9,
   "metadata": {},
   "outputs": [
    {
     "name": "stdout",
     "output_type": "stream",
     "text": [
      "shape of training set TFIDF&text:  (1048091, 1755702)\n"
     ]
    }
   ],
   "source": [
    "#tfidf the data\n",
    "tfidf_text = TfidfVectorizer()\n",
    "X_training_tfidf_text = tfidf_text.fit_transform(X_train_text)\n",
    "X_test_tfidf_text = tfidf_text.transform(X_test_text)\n",
    "submission_tfidf_text = tfidf_text.transform(submission_text)\n",
    "print(\"shape of training set TFIDF&text: \",X_training_tfidf_text.shape)"
   ]
  },
  {
   "cell_type": "code",
   "execution_count": 11,
   "metadata": {},
   "outputs": [
    {
     "name": "stderr",
     "output_type": "stream",
     "text": [
      "C:\\Users\\dsa\\AppData\\Local\\Programs\\Python\\Python39\\lib\\site-packages\\sklearn\\linear_model\\_logistic.py:814: ConvergenceWarning: lbfgs failed to converge (status=1):\n",
      "STOP: TOTAL NO. of ITERATIONS REACHED LIMIT.\n",
      "\n",
      "Increase the number of iterations (max_iter) or scale the data as shown in:\n",
      "    https://scikit-learn.org/stable/modules/preprocessing.html\n",
      "Please also refer to the documentation for alternative solver options:\n",
      "    https://scikit-learn.org/stable/modules/linear_model.html#logistic-regression\n",
      "  n_iter_i = _check_optimize_result(\n"
     ]
    },
    {
     "name": "stdout",
     "output_type": "stream",
     "text": [
      "RMSE on 1 testing set =  0.8971531125130237\n"
     ]
    }
   ],
   "source": [
    "\n",
    "\n",
    "clf = LogisticRegression(random_state=0).fit(X_training_vector_text,Y_train)\n",
    "logprevec = clf.predict(X_test_vectorr_text)\n",
    "print(\"RMSE on 1 testing set = \", mean_squared_error(Y_test, logprevec))"
   ]
  },
  {
   "cell_type": "code",
   "execution_count": 12,
   "metadata": {},
   "outputs": [
    {
     "name": "stderr",
     "output_type": "stream",
     "text": [
      "C:\\Users\\dsa\\AppData\\Local\\Programs\\Python\\Python39\\lib\\site-packages\\sklearn\\linear_model\\_logistic.py:814: ConvergenceWarning: lbfgs failed to converge (status=1):\n",
      "STOP: TOTAL NO. of ITERATIONS REACHED LIMIT.\n",
      "\n",
      "Increase the number of iterations (max_iter) or scale the data as shown in:\n",
      "    https://scikit-learn.org/stable/modules/preprocessing.html\n",
      "Please also refer to the documentation for alternative solver options:\n",
      "    https://scikit-learn.org/stable/modules/linear_model.html#logistic-regression\n",
      "  n_iter_i = _check_optimize_result(\n"
     ]
    },
    {
     "name": "stdout",
     "output_type": "stream",
     "text": [
      "RMSE on 2 testing set =  0.8653438820256237\n"
     ]
    }
   ],
   "source": [
    "\n",
    "clf2 = LogisticRegression(random_state=0).fit(X_training_tfidf_text,Y_train)\n",
    "logprevec2 = clf2.predict(X_test_tfidf_text)\n",
    "print(\"RMSE on 2 testing set = \", mean_squared_error(Y_test, logprevec2))"
   ]
  },
  {
   "cell_type": "code",
   "execution_count": 17,
   "metadata": {},
   "outputs": [
    {
     "name": "stderr",
     "output_type": "stream",
     "text": [
      "C:\\Users\\dsa\\AppData\\Local\\Programs\\Python\\Python39\\lib\\site-packages\\sklearn\\linear_model\\_logistic.py:814: ConvergenceWarning: lbfgs failed to converge (status=1):\n",
      "STOP: TOTAL NO. of ITERATIONS REACHED LIMIT.\n",
      "\n",
      "Increase the number of iterations (max_iter) or scale the data as shown in:\n",
      "    https://scikit-learn.org/stable/modules/preprocessing.html\n",
      "Please also refer to the documentation for alternative solver options:\n",
      "    https://scikit-learn.org/stable/modules/linear_model.html#logistic-regression\n",
      "  n_iter_i = _check_optimize_result(\n"
     ]
    },
    {
     "name": "stdout",
     "output_type": "stream",
     "text": [
      "RMSE on 2 testing set =  0.862676177282147\n"
     ]
    }
   ],
   "source": [
    "clf3 = LogisticRegression(random_state=0,C=20).fit(X_training_tfidf_text,Y_train)\n",
    "logprevec3 = clf3.predict(X_test_tfidf_text)\n",
    "print(\"RMSE on testing set = \", mean_squared_error(Y_test, logprevec3))"
   ]
  },
  {
   "cell_type": "code",
   "execution_count": 18,
   "metadata": {},
   "outputs": [
    {
     "name": "stderr",
     "output_type": "stream",
     "text": [
      "C:\\Users\\dsa\\AppData\\Local\\Programs\\Python\\Python39\\lib\\site-packages\\sklearn\\linear_model\\_logistic.py:814: ConvergenceWarning: lbfgs failed to converge (status=1):\n",
      "STOP: TOTAL NO. of ITERATIONS REACHED LIMIT.\n",
      "\n",
      "Increase the number of iterations (max_iter) or scale the data as shown in:\n",
      "    https://scikit-learn.org/stable/modules/preprocessing.html\n",
      "Please also refer to the documentation for alternative solver options:\n",
      "    https://scikit-learn.org/stable/modules/linear_model.html#logistic-regression\n",
      "  n_iter_i = _check_optimize_result(\n"
     ]
    },
    {
     "name": "stdout",
     "output_type": "stream",
     "text": [
      "RMSE on 2 testing set =  0.8577558076962709\n"
     ]
    }
   ],
   "source": [
    "clf4 = LogisticRegression(random_state=0,C=40).fit(X_training_tfidf_text,Y_train)\n",
    "logprevec4 = clf4.predict(X_test_tfidf_text)\n",
    "print(\"RMSE on testing set = \", mean_squared_error(Y_test, logprevec4))"
   ]
  },
  {
   "cell_type": "code",
   "execution_count": 19,
   "metadata": {},
   "outputs": [
    {
     "name": "stderr",
     "output_type": "stream",
     "text": [
      "C:\\Users\\dsa\\AppData\\Local\\Programs\\Python\\Python39\\lib\\site-packages\\sklearn\\linear_model\\_logistic.py:814: ConvergenceWarning: lbfgs failed to converge (status=1):\n",
      "STOP: TOTAL NO. of ITERATIONS REACHED LIMIT.\n",
      "\n",
      "Increase the number of iterations (max_iter) or scale the data as shown in:\n",
      "    https://scikit-learn.org/stable/modules/preprocessing.html\n",
      "Please also refer to the documentation for alternative solver options:\n",
      "    https://scikit-learn.org/stable/modules/linear_model.html#logistic-regression\n",
      "  n_iter_i = _check_optimize_result(\n"
     ]
    },
    {
     "name": "stdout",
     "output_type": "stream",
     "text": [
      "RMSE on 2 testing set =  0.8518135812505009\n"
     ]
    }
   ],
   "source": [
    "clf5 = LogisticRegression(random_state=0,C=60).fit(X_training_tfidf_text,Y_train)\n",
    "logprevec5 = clf5.predict(X_test_tfidf_text)\n",
    "print(\"RMSE on testing set = \", mean_squared_error(Y_test, logprevec5))"
   ]
  },
  {
   "cell_type": "code",
   "execution_count": 21,
   "metadata": {},
   "outputs": [
    {
     "name": "stderr",
     "output_type": "stream",
     "text": [
      "C:\\Users\\dsa\\AppData\\Local\\Programs\\Python\\Python39\\lib\\site-packages\\sklearn\\linear_model\\_logistic.py:814: ConvergenceWarning: lbfgs failed to converge (status=1):\n",
      "STOP: TOTAL NO. of ITERATIONS REACHED LIMIT.\n",
      "\n",
      "Increase the number of iterations (max_iter) or scale the data as shown in:\n",
      "    https://scikit-learn.org/stable/modules/preprocessing.html\n",
      "Please also refer to the documentation for alternative solver options:\n",
      "    https://scikit-learn.org/stable/modules/linear_model.html#logistic-regression\n",
      "  n_iter_i = _check_optimize_result(\n"
     ]
    },
    {
     "name": "stdout",
     "output_type": "stream",
     "text": [
      "RMSE on testing set =  0.9128845559359293\n"
     ]
    }
   ],
   "source": [
    "clf6 = LogisticRegression(random_state=0,C=100).fit(X_training_tfidf_text,Y_train)\n",
    "logprevec6 = clf6.predict(X_test_tfidf_text)\n",
    "print(\"RMSE on testing set = \", mean_squared_error(Y_test, logprevec6))"
   ]
  },
  {
   "cell_type": "code",
   "execution_count": 23,
   "metadata": {},
   "outputs": [
    {
     "name": "stderr",
     "output_type": "stream",
     "text": [
      "C:\\Users\\dsa\\AppData\\Local\\Programs\\Python\\Python39\\lib\\site-packages\\sklearn\\linear_model\\_logistic.py:814: ConvergenceWarning: lbfgs failed to converge (status=1):\n",
      "STOP: TOTAL NO. of ITERATIONS REACHED LIMIT.\n",
      "\n",
      "Increase the number of iterations (max_iter) or scale the data as shown in:\n",
      "    https://scikit-learn.org/stable/modules/preprocessing.html\n",
      "Please also refer to the documentation for alternative solver options:\n",
      "    https://scikit-learn.org/stable/modules/linear_model.html#logistic-regression\n",
      "  n_iter_i = _check_optimize_result(\n"
     ]
    },
    {
     "name": "stdout",
     "output_type": "stream",
     "text": [
      "RMSE on 2 testing set =  0.8435757548001511\n"
     ]
    }
   ],
   "source": [
    "clf7 = LogisticRegression(random_state=0,C=80).fit(X_training_tfidf_text,Y_train)\n",
    "logprevec7 = clf7.predict(X_test_tfidf_text)\n",
    "print(\"RMSE on testing set = \", mean_squared_error(Y_test, logprevec7))"
   ]
  },
  {
   "cell_type": "code",
   "execution_count": 25,
   "metadata": {},
   "outputs": [
    {
     "name": "stderr",
     "output_type": "stream",
     "text": [
      "C:\\Users\\dsa\\AppData\\Local\\Programs\\Python\\Python39\\lib\\site-packages\\sklearn\\linear_model\\_logistic.py:814: ConvergenceWarning: lbfgs failed to converge (status=1):\n",
      "STOP: TOTAL NO. of ITERATIONS REACHED LIMIT.\n",
      "\n",
      "Increase the number of iterations (max_iter) or scale the data as shown in:\n",
      "    https://scikit-learn.org/stable/modules/preprocessing.html\n",
      "Please also refer to the documentation for alternative solver options:\n",
      "    https://scikit-learn.org/stable/modules/linear_model.html#logistic-regression\n",
      "  n_iter_i = _check_optimize_result(\n"
     ]
    },
    {
     "name": "stdout",
     "output_type": "stream",
     "text": [
      "RMSE on testing set =  0.8593472710410918\n"
     ]
    }
   ],
   "source": [
    "logprevec8 = LogisticRegression(random_state=0,C=90).fit(X_training_tfidf_text,Y_train).predict(X_test_tfidf_text)\n",
    "print(\"RMSE on testing set = \", mean_squared_error(Y_test, logprevec8))"
   ]
  },
  {
   "cell_type": "code",
   "execution_count": 12,
   "metadata": {},
   "outputs": [
    {
     "name": "stderr",
     "output_type": "stream",
     "text": [
      "C:\\Users\\dsa\\AppData\\Local\\Programs\\Python\\Python39\\lib\\site-packages\\sklearn\\linear_model\\_logistic.py:814: ConvergenceWarning: lbfgs failed to converge (status=1):\n",
      "STOP: TOTAL NO. of ITERATIONS REACHED LIMIT.\n",
      "\n",
      "Increase the number of iterations (max_iter) or scale the data as shown in:\n",
      "    https://scikit-learn.org/stable/modules/preprocessing.html\n",
      "Please also refer to the documentation for alternative solver options:\n",
      "    https://scikit-learn.org/stable/modules/linear_model.html#logistic-regression\n",
      "  n_iter_i = _check_optimize_result(\n"
     ]
    }
   ],
   "source": [
    "lg8 = LogisticRegression(random_state=0,C=80,max_iter=100).fit(X_training_tfidf_text,Y_train)"
   ]
  },
  {
   "cell_type": "code",
   "execution_count": 13,
   "metadata": {},
   "outputs": [
    {
     "name": "stdout",
     "output_type": "stream",
     "text": [
      "RMSE on testing set =  0.8302572674917851\n"
     ]
    }
   ],
   "source": [
    "logprevec8 = lg8.predict(X_test_tfidf_text)\n",
    "print(\"RMSE on testing set = \", mean_squared_error(Y_test, logprevec8))"
   ]
  },
  {
   "cell_type": "code",
   "execution_count": 14,
   "metadata": {},
   "outputs": [],
   "source": [
    "lg8 = LogisticRegression(random_state=0,C=80,max_iter=1000).fit(X_training_tfidf_text,Y_train)"
   ]
  },
  {
   "cell_type": "code",
   "execution_count": null,
   "metadata": {},
   "outputs": [],
   "source": [
    "logprevec9 = LogisticRegression(random_state=0,C=80,max_iter=5000).fit(X_training_tfidf_text,Y_train).predict(X_test_vectorr_text)\n",
    "print(\"RMSE on testing set = \", mean_squared_error(Y_test, logprevec9))"
   ]
  },
  {
   "cell_type": "code",
   "execution_count": 26,
   "metadata": {},
   "outputs": [],
   "source": [
    "submission_predict = submissionSet\n",
    "submission_predict['Score'] = clf7.predict(submission_tfidf_text)\n",
    "submission_output = submission_predict[['Id','Score']]\n",
    "submission_output.to_csv(\"./data/lg7_tfidf.csv\",index = False)"
   ]
  }
 ],
 "metadata": {
  "interpreter": {
   "hash": "bd2e637a70a200b3ebcab9c346823b324e3cae506e7b662da0792a7bb4adc9ef"
  },
  "kernelspec": {
   "display_name": "Python 3.9.7 64-bit",
   "name": "python3"
  },
  "language_info": {
   "codemirror_mode": {
    "name": "ipython",
    "version": 3
   },
   "file_extension": ".py",
   "mimetype": "text/x-python",
   "name": "python",
   "nbconvert_exporter": "python",
   "pygments_lexer": "ipython3",
   "version": "3.9.7"
  },
  "orig_nbformat": 4
 },
 "nbformat": 4,
 "nbformat_minor": 2
}
